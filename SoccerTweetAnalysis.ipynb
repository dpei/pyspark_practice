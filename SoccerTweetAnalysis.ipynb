{
 "cells": [
  {
   "cell_type": "code",
   "execution_count": 3,
   "metadata": {
    "collapsed": true
   },
   "outputs": [],
   "source": [
    "# Import and create a new SQLContext \n",
    "from pyspark.sql import SQLContext\n",
    "sqlContext = SQLContext(sc)"
   ]
  },
  {
   "cell_type": "code",
   "execution_count": 4,
   "metadata": {
    "collapsed": false
   },
   "outputs": [],
   "source": [
    "# Read the country CSV file into an RDD.\n",
    "country_lines = sc.textFile('file:///home/cloudera/Downloads/big-data-3/final-project/country-list.csv')"
   ]
  },
  {
   "cell_type": "code",
   "execution_count": 5,
   "metadata": {
    "collapsed": false
   },
   "outputs": [
    {
     "data": {
      "text/plain": [
       "[['Afghanistan', 'AFG'],\n",
       " ['Albania', 'ALB'],\n",
       " ['Algeria', 'ALG'],\n",
       " ['American Samoa', 'ASA'],\n",
       " ['Andorra', 'AND'],\n",
       " ['Angola', 'ANG'],\n",
       " ['Anguilla', 'AIA'],\n",
       " ['Antigua and Barbuda', 'ATG'],\n",
       " ['Argentina', 'ARG'],\n",
       " ['Armenia', 'ARM']]"
      ]
     },
     "execution_count": 5,
     "metadata": {},
     "output_type": "execute_result"
    }
   ],
   "source": [
    "# Convert each line into a pair of words\n",
    "words = country_lines.map(lambda line: line.split(\", \"))\n",
    "words.take(10)"
   ]
  },
  {
   "cell_type": "code",
   "execution_count": 6,
   "metadata": {
    "collapsed": false
   },
   "outputs": [
    {
     "data": {
      "text/plain": [
       "[('Afghanistan', 'AFG'),\n",
       " ('Albania', 'ALB'),\n",
       " ('Algeria', 'ALG'),\n",
       " ('American Samoa', 'ASA'),\n",
       " ('Andorra', 'AND'),\n",
       " ('Angola', 'ANG'),\n",
       " ('Anguilla', 'AIA'),\n",
       " ('Antigua and Barbuda', 'ATG'),\n",
       " ('Argentina', 'ARG'),\n",
       " ('Armenia', 'ARM')]"
      ]
     },
     "execution_count": 6,
     "metadata": {},
     "output_type": "execute_result"
    }
   ],
   "source": [
    "# Convert each pair of words into a tuple\n",
    "country_tuples = words.map(lambda word:tuple(word))\n",
    "country_tuples.take(10)"
   ]
  },
  {
   "cell_type": "code",
   "execution_count": 7,
   "metadata": {
    "collapsed": false,
    "scrolled": true
   },
   "outputs": [
    {
     "name": "stdout",
     "output_type": "stream",
     "text": [
      "root\n",
      " |-- country: string (nullable = true)\n",
      " |-- code: string (nullable = true)\n",
      "\n"
     ]
    },
    {
     "data": {
      "text/plain": [
       "[Row(country='Afghanistan', code='AFG'),\n",
       " Row(country='Albania', code='ALB'),\n",
       " Row(country='Algeria', code='ALG')]"
      ]
     },
     "execution_count": 7,
     "metadata": {},
     "output_type": "execute_result"
    }
   ],
   "source": [
    "# Create the DataFrame, look at schema and contents\n",
    "countryDF = sqlContext.createDataFrame(country_tuples, [\"country\", \"code\"])\n",
    "countryDF.printSchema()\n",
    "countryDF.take(3)"
   ]
  },
  {
   "cell_type": "code",
   "execution_count": 8,
   "metadata": {
    "collapsed": false
   },
   "outputs": [],
   "source": [
    "# Read tweets CSV file into RDD of lines\n",
    "#import csv\n",
    "tweet_lines = sc.textFile('file:///home/cloudera/Downloads/big-data-3/final-project/tweet.csv')\\\n",
    ".map(lambda line:line.split(\",\"))\\\n",
    ".map(lambda line:line[8])\n",
    "# tweet_lines = rdd.mapPartitions(lambda x: csv.reader(x))\n",
    "#tweet_lines.count()\n",
    "\n",
    "# tweet_lines = tweet_lines.mapPartitions(lambda x: csv.reader(x))\n",
    "\n"
   ]
  },
  {
   "cell_type": "code",
   "execution_count": 9,
   "metadata": {
    "collapsed": false
   },
   "outputs": [
    {
     "data": {
      "text/plain": [
       "11183"
      ]
     },
     "execution_count": 9,
     "metadata": {},
     "output_type": "execute_result"
    }
   ],
   "source": [
    "# Clean the data: some tweets are empty. Remove the empty tweets using filter() \n",
    "clean_tweet_lines = tweet_lines.filter(lambda x: len(x)>16)\n",
    "#is not None).filter(lambda x: x[1] != \"\")\n",
    "#clean_tweet_lines.take(3)\n",
    "clean_tweet_lines.count()"
   ]
  },
  {
   "cell_type": "code",
   "execution_count": 10,
   "metadata": {
    "collapsed": false
   },
   "outputs": [
    {
     "data": {
      "text/plain": [
       "24215"
      ]
     },
     "execution_count": 10,
     "metadata": {},
     "output_type": "execute_result"
    }
   ],
   "source": [
    "# Perform WordCount on the cleaned tweet texts. (note: this is several lines.)\n",
    "clean_tweet_lines.take(1)\n",
    "wc_lines = clean_tweet_lines.flatMap(lambda line: line.split(\" \"))\n",
    "wc_tuples = wc_lines.map(lambda word:(word, 1))\n",
    "#wc_tuples.count()\n",
    "wc_counts = wc_tuples.reduceByKey(lambda a, b: (a+b))\n",
    "wc_df = wc_counts.coalesce(1)\n",
    "wc_df.count()\n",
    "#wc_df.take(3)"
   ]
  },
  {
   "cell_type": "code",
   "execution_count": 12,
   "metadata": {
    "collapsed": false,
    "scrolled": true
   },
   "outputs": [
    {
     "data": {
      "text/plain": [
       "[Row(word='', count=1885),\n",
       " Row(word='mobile', count=1),\n",
       " Row(word='\\\\n*30', count=1)]"
      ]
     },
     "execution_count": 12,
     "metadata": {},
     "output_type": "execute_result"
    }
   ],
   "source": [
    "# Create the DataFrame of tweet word counts\n",
    "tweetCountDF = sqlContext.createDataFrame(wc_df, [\"word\", \"count\"])\n",
    "tweetCountDF.take(3)"
   ]
  },
  {
   "cell_type": "code",
   "execution_count": 13,
   "metadata": {
    "collapsed": false
   },
   "outputs": [
    {
     "name": "stdout",
     "output_type": "stream",
     "text": [
      "root\n",
      " |-- code: string (nullable = true)\n",
      " |-- country: string (nullable = true)\n",
      " |-- count: long (nullable = true)\n",
      "\n"
     ]
    },
    {
     "data": {
      "text/plain": [
       "[Row(code='THA', country='Thailand', count=1),\n",
       " Row(code='ISL', country='Iceland', count=2),\n",
       " Row(code='MEX', country='Mexico', count=1)]"
      ]
     },
     "execution_count": 13,
     "metadata": {},
     "output_type": "execute_result"
    }
   ],
   "source": [
    "# Join the country and tweet data frames (on the appropriate column)\n",
    "from pyspark.sql.functions import col\n",
    "retDF = countryDF.alias('c').join(tweetCountDF.alias('t'), col('c.country') == col('t.word')).select(col('c.code'), col('c.country'), col('t.count'))\n",
    "retDF.printSchema()\n",
    "retDF.take(3)"
   ]
  },
  {
   "cell_type": "code",
   "execution_count": null,
   "metadata": {
    "collapsed": false
   },
   "outputs": [],
   "source": []
  },
  {
   "cell_type": "code",
   "execution_count": 14,
   "metadata": {
    "collapsed": false
   },
   "outputs": [
    {
     "data": {
      "text/plain": [
       "40"
      ]
     },
     "execution_count": 14,
     "metadata": {},
     "output_type": "execute_result"
    }
   ],
   "source": [
    "# Question 1: number of distinct countries mentioned\n",
    "retDF.count()"
   ]
  },
  {
   "cell_type": "code",
   "execution_count": 15,
   "metadata": {
    "collapsed": false
   },
   "outputs": [
    {
     "data": {
      "text/plain": [
       "Row(sum(count)=312)"
      ]
     },
     "execution_count": 15,
     "metadata": {},
     "output_type": "execute_result"
    }
   ],
   "source": [
    "# Question 2: number of countries mentioned in tweets.\n",
    "from pyspark.sql.functions import sum\n",
    "retDF.agg(sum(\"count\")).first()"
   ]
  },
  {
   "cell_type": "code",
   "execution_count": 17,
   "metadata": {
    "collapsed": false
   },
   "outputs": [
    {
     "name": "stdout",
     "output_type": "stream",
     "text": [
      "+----+--------+-----+\n",
      "|code| country|count|\n",
      "+----+--------+-----+\n",
      "| FRA|  France|   36|\n",
      "| SVK|Slovakia|   30|\n",
      "| NOR|  Norway|   28|\n",
      "| NGA| Nigeria|   27|\n",
      "| ENG| England|   26|\n",
      "+----+--------+-----+\n",
      "only showing top 5 rows\n",
      "\n"
     ]
    }
   ],
   "source": [
    "# Table 1: top three countries and their counts.\n",
    "from pyspark.sql.functions import desc\n",
    "rank = retDF.sort(desc(\"count\"))\n",
    "rank.show(5)"
   ]
  },
  {
   "cell_type": "code",
   "execution_count": 21,
   "metadata": {
    "collapsed": false
   },
   "outputs": [
    {
     "name": "stdout",
     "output_type": "stream",
     "text": [
      "+----+-----------+-----+\n",
      "|code|    country|count|\n",
      "+----+-----------+-----+\n",
      "| ISL|    Iceland|    2|\n",
      "| WAL|      Wales|   17|\n",
      "| NED|Netherlands|    8|\n",
      "+----+-----------+-----+\n",
      "\n"
     ]
    }
   ],
   "source": [
    "# Table 2: counts for Wales, Iceland, and Japan.\n",
    "selectedDF = retDF.where((col(\"country\") == \"Iceland\") | \n",
    "                         (col(\"country\") == \"Netherlands\") |\n",
    "                         (col(\"country\") == \"Wales\"))\n",
    "selectedDF.show()"
   ]
  },
  {
   "cell_type": "code",
   "execution_count": null,
   "metadata": {
    "collapsed": true
   },
   "outputs": [],
   "source": []
  }
 ],
 "metadata": {
  "kernelspec": {
   "display_name": "Python 3",
   "language": "python",
   "name": "python3"
  },
  "language_info": {
   "codemirror_mode": {
    "name": "ipython",
    "version": 3
   },
   "file_extension": ".py",
   "mimetype": "text/x-python",
   "name": "python",
   "nbconvert_exporter": "python",
   "pygments_lexer": "ipython3",
   "version": "3.5.1"
  }
 },
 "nbformat": 4,
 "nbformat_minor": 0
}
